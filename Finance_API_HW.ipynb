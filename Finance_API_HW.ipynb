{
  "nbformat": 4,
  "nbformat_minor": 0,
  "metadata": {
    "colab": {
      "provenance": [],
      "include_colab_link": true
    },
    "kernelspec": {
      "name": "python3",
      "display_name": "Python 3"
    },
    "language_info": {
      "name": "python"
    }
  },
  "cells": [
    {
      "cell_type": "markdown",
      "metadata": {
        "id": "view-in-github",
        "colab_type": "text"
      },
      "source": [
        "<a href=\"https://colab.research.google.com/github/jly123819/jly123819/blob/main/Finance_API_HW.ipynb\" target=\"_parent\"><img src=\"https://colab.research.google.com/assets/colab-badge.svg\" alt=\"Open In Colab\"/></a>"
      ]
    },
    {
      "cell_type": "code",
      "execution_count": 1,
      "metadata": {
        "colab": {
          "base_uri": "https://localhost:8080/"
        },
        "id": "ME7pDLr0KUUH",
        "outputId": "e5d240dc-c447-4b60-f47a-fd962c7a9221"
      },
      "outputs": [
        {
          "name": "stdout",
          "output_type": "stream",
          "text": [
            "AAPL\n"
          ]
        }
      ],
      "source": [
        "import json\n",
        "import pandas as pd\n",
        "import requests\n",
        "\n",
        "# Ask user for stock symbols\n",
        "stock=input()"
      ]
    },
    {
      "cell_type": "code",
      "source": [
        "# API key\n",
        "apikey = \"20vlAA62RCadBlyH3wvWj7hJHxFbqqT642G6FHZP\"\n",
        "\n",
        "# Define URL\n",
        "url = \"https://yfapi.net/v6/finance/quote\"\n",
        "\n",
        "# Define query parameters\n",
        "querystring = {\"symbols\": stock}\n",
        "\n",
        "# Define headers\n",
        "headers = {'x-api-key': apikey}\n",
        "\n",
        "# Send request\n",
        "response = requests.get(url, headers=headers, params=querystring)\n",
        "\n",
        "# Parse JSON response\n",
        "data = json.loads(response.text)\n",
        "\n",
        "# Extract required information\n",
        "if \"quoteResponse\" in data and \"result\" in data[\"quoteResponse\"]:\n",
        "    results = data[\"quoteResponse\"][\"result\"]\n",
        "\n",
        "    for stock_info in results:\n",
        "        ticker = stock_info.get(\"symbol\", \"N/A\")\n",
        "        company = stock_info.get(\"longName\", \"N/A\")\n",
        "        price = stock_info.get(\"regularMarketPrice\", \"N/A\")\n",
        "\n",
        "        print(f\"Stock Ticker: {ticker}, Company: {company}, Current Market Price: ${price}\")\n",
        "else:\n",
        "    print(\"No data found for the given stock symbols.\")\n"
      ],
      "metadata": {
        "colab": {
          "base_uri": "https://localhost:8080/"
        },
        "id": "EiUPWCQ0Mc_p",
        "outputId": "0cd9f64c-bb72-47ba-9084-3a345853f73c"
      },
      "execution_count": 5,
      "outputs": [
        {
          "output_type": "stream",
          "name": "stdout",
          "text": [
            "Stock Ticker: AAPL, Company: Apple Inc., Current Market Price: $240.52\n"
          ]
        }
      ]
    },
    {
      "cell_type": "code",
      "source": [
        "# Ask user for stock symbol\n",
        "stocks=input()"
      ],
      "metadata": {
        "colab": {
          "base_uri": "https://localhost:8080/"
        },
        "id": "N8oureiQOPEM",
        "outputId": "a5d58684-fe48-41f3-9f52-8ca7531b1393"
      },
      "execution_count": 3,
      "outputs": [
        {
          "name": "stdout",
          "output_type": "stream",
          "text": [
            "AAPL\n"
          ]
        }
      ]
    },
    {
      "cell_type": "code",
      "source": [
        "# User selects a financial metric\n",
        "metric_map = {\n",
        "    \"1\": \"fiftyTwoWeekHigh\",\n",
        "    \"2\": \"fiftyTwoWeekLow\",\n",
        "    \"3\": \"returnOnAssets\"\n",
        "}\n",
        "\n",
        "print(\"Choose a metric to fetch:\")\n",
        "print(\"1 - 52-Week High\")\n",
        "print(\"2 - 52-Week Low\")\n",
        "print(\"3 - Return on Assets (ROA)\")\n",
        "choice = input(\"Enter the number (1-3): \").strip()\n",
        "\n",
        "if choice not in metric_map:\n",
        "    print(\"Invalid choice. Exiting.\")\n",
        "    exit()\n",
        "\n",
        "metric_name = metric_map[choice]\n",
        "\n",
        "# API key (DO NOT include in final submission)\n",
        "apikey = \"20vlAA62RCadBlyH3wvWj7hJHxFbqqT642G6FHZP\"\n",
        "\n",
        "# Define URL\n",
        "url = \"https://yfapi.net/v6/finance/quote\"\n",
        "\n",
        "# Define query parameters\n",
        "querystring = {\"symbols\": stocks}\n",
        "\n",
        "# Define headers\n",
        "headers = {'x-api-key': apikey}\n",
        "\n",
        "# Send request\n",
        "response = requests.get(url, headers=headers, params=querystring)\n",
        "\n",
        "# Parse JSON response\n",
        "data = json.loads(response.text)\n",
        "\n",
        "# Extract required information\n",
        "if \"quoteResponse\" in data and \"result\" in data[\"quoteResponse\"]:\n",
        "    results = data[\"quoteResponse\"][\"result\"]\n",
        "\n",
        "    for stock_info in results:\n",
        "        ticker = stock_info.get(\"symbol\", \"N/A\")\n",
        "        company = stock_info.get(\"longName\", \"N/A\")\n",
        "        selected_metric = stock_info.get(metric_name, \"N/A\")\n",
        "\n",
        "        # Convert to DataFrame\n",
        "        df = pd.DataFrame([{\n",
        "            \"Stock Ticker\": ticker,\n",
        "            \"Company Name\": company,\n",
        "            metric_name: selected_metric\n",
        "        }])\n",
        "\n",
        "        # Display DataFrame\n",
        "        print(df)\n",
        "else:\n",
        "    print(\"No data found for the given stock symbol.\")"
      ],
      "metadata": {
        "colab": {
          "base_uri": "https://localhost:8080/"
        },
        "id": "9EISLkhHOSEz",
        "outputId": "ae641537-f45d-4ff9-fdc1-e3635a43a97a"
      },
      "execution_count": 4,
      "outputs": [
        {
          "output_type": "stream",
          "name": "stdout",
          "text": [
            "Choose a metric to fetch:\n",
            "1 - 52-Week High\n",
            "2 - 52-Week Low\n",
            "3 - Return on Assets (ROA)\n",
            "Enter the number (1-3): 1\n",
            "  Stock Ticker Company Name  fiftyTwoWeekHigh\n",
            "0         AAPL   Apple Inc.             260.1\n"
          ]
        }
      ]
    },
    {
      "cell_type": "code",
      "source": [
        "# API key (DO NOT include in final submission)\n",
        "apikey = \"20vlAA62RCadBlyH3wvWj7hJHxFbqqT642G6FHZP\"\n",
        "\n",
        "# Define URL for trending stocks\n",
        "url = \"https://yfapi.net/v1/finance/trending/US\"\n",
        "\n",
        "# Define headers\n",
        "headers = {'x-api-key': apikey}\n",
        "\n",
        "# Send request to get trending stocks\n",
        "response = requests.get(url, headers=headers)\n",
        "\n",
        "# Parse JSON response\n",
        "data = json.loads(response.text)\n",
        "\n",
        "# Extract trending stock symbols\n",
        "if \"finance\" in data and \"result\" in data[\"finance\"] and data[\"finance\"][\"result\"]:\n",
        "    trending_symbols = [stock[\"symbol\"] for stock in data[\"finance\"][\"result\"][0][\"quotes\"]]\n",
        "\n",
        "    # Fetch details for trending stocks\n",
        "    stock_url = \"https://yfapi.net/v6/finance/quote\"\n",
        "    querystring = {\"symbols\": \",\".join(trending_symbols)}\n",
        "\n",
        "    stock_response = requests.get(stock_url, headers=headers, params=querystring)\n",
        "    stock_data = json.loads(stock_response.text)\n",
        "\n",
        "    # Extract required details\n",
        "    stock_list = []\n",
        "    if \"quoteResponse\" in stock_data and \"result\" in stock_data[\"quoteResponse\"]:\n",
        "        for stock_info in stock_data[\"quoteResponse\"][\"result\"]:\n",
        "            stock_list.append([\n",
        "                stock_info.get(\"symbol\", \"N/A\"),\n",
        "                stock_info.get(\"longName\", \"N/A\"),\n",
        "                stock_info.get(\"regularMarketPrice\", \"N/A\"),\n",
        "                stock_info.get(\"fiftyTwoWeekHigh\", \"N/A\"),\n",
        "                stock_info.get(\"fiftyTwoWeekLow\", \"N/A\")\n",
        "            ])\n",
        "\n",
        "    # Convert to DataFrame\n",
        "    df_trending = pd.DataFrame(stock_list, columns=['Ticker', 'Company Name', 'Current Price', '52-Week High', '52-Week Low'])\n",
        "\n",
        "    # Display DataFrame\n",
        "    print(df_trending)\n",
        "else:\n",
        "    print(\"No trending stocks found.\")"
      ],
      "metadata": {
        "colab": {
          "base_uri": "https://localhost:8080/"
        },
        "id": "75Ayn7JkPAH3",
        "outputId": "4cd3f1a5-8447-49a5-a1b2-b4de1a9669da"
      },
      "execution_count": null,
      "outputs": [
        {
          "output_type": "stream",
          "name": "stdout",
          "text": [
            "     Ticker                      Company Name  Current Price  52-Week High  \\\n",
            "0      SMCI        Super Micro Computer, Inc.          45.54        122.90   \n",
            "1      TSLA                       Tesla, Inc.         302.80        488.54   \n",
            "2      WDAY                     Workday, Inc.         255.22        298.50   \n",
            "3      NVDA                NVIDIA Corporation         126.63        153.13   \n",
            "4      LCID                 Lucid Group, Inc.           2.61          4.43   \n",
            "5      CAVA                  CAVA Group, Inc.          99.30        172.43   \n",
            "6      LMND                    Lemonade, Inc.          31.99         53.85   \n",
            "7      FSLR                 First Solar, Inc.         147.46        306.77   \n",
            "8      INTU                       Intuit Inc.         555.63        714.78   \n",
            "9      CPNG                     Coupang, Inc.          24.17         26.91   \n",
            "10     AXON             Axon Enterprise, Inc.         496.65        715.99   \n",
            "11     DNUT                Krispy Kreme, Inc.           7.13         17.84   \n",
            "12  9618.HK                      JD.com, Inc.         168.00        192.30   \n",
            "13      SRE                            Sempra          70.64         95.77   \n",
            "14      DFH         Dream Finders Homes, Inc.          24.76         44.38   \n",
            "15  3690.HK                           Meituan         174.20        217.00   \n",
            "16      AMD      Advanced Micro Devices, Inc.         103.96        227.30   \n",
            "17      AMC  AMC Entertainment Holdings, Inc.           3.27         11.88   \n",
            "18   C09.SI         City Developments Limited           5.12          6.19   \n",
            "19  0388.HK                              HKEX         361.60        397.80   \n",
            "\n",
            "    52-Week Low  \n",
            "0        17.250  \n",
            "1       138.800  \n",
            "2       199.810  \n",
            "3        75.606  \n",
            "4         1.930  \n",
            "5        54.210  \n",
            "6        14.030  \n",
            "7       145.770  \n",
            "8       553.310  \n",
            "9        17.320  \n",
            "10      273.520  \n",
            "11        6.350  \n",
            "12       82.600  \n",
            "13       64.890  \n",
            "14       20.540  \n",
            "15       77.150  \n",
            "16      103.620  \n",
            "17        2.380  \n",
            "18        5.000  \n",
            "19      212.200  \n"
          ]
        }
      ]
    }
  ]
}